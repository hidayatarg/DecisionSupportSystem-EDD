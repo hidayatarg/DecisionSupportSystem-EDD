{
 "cells": [
  {
   "cell_type": "code",
   "execution_count": 23,
   "metadata": {},
   "outputs": [],
   "source": [
    "import pandas as pd"
   ]
  },
  {
   "cell_type": "code",
   "execution_count": 25,
   "metadata": {},
   "outputs": [],
   "source": [
    "df1 = pd.DataFrame({'Names': ['Andreas', 'George', 'Steve',\n",
    "                           'Sarah', 'Joanna', 'Hanna'],\n",
    "                   'Age':[21, 22, 20, 19, 18, 23]})\n",
    "df2 = pd.DataFrame({'Names': ['Pete', 'Jordan', 'Gustaf',\n",
    "                           'Sophie', 'Sally', 'Simone'],\n",
    "                   'Age':[22, 21, 19, 19, 29, 21]})\n",
    "df3 = pd.DataFrame({'Names': ['Ulrich', 'Donald', 'Jon',\n",
    "                           'Jessica', 'Elisabeth', 'Diana'],\n",
    "                   'Age':[21, 21, 20, 19, 19, 22]})\n",
    "\n",
    "dfs = {'Group1':df1, 'Group2':df2, 'Group3':df3}\n",
    "\n",
    "writer = pd.ExcelWriter('NamesAndAges.xlsx', engine='xlsxwriter')\n",
    "for sheet_name in dfs.keys():\n",
    "    dfs[sheet_name].to_excel(writer, sheet_name=sheet_name, index=False)\n",
    "    \n",
    "writer.save()"
   ]
  },
  {
   "cell_type": "markdown",
   "metadata": {},
   "source": [
    "### Write a Data Frame to an Excel File"
   ]
  },
  {
   "cell_type": "code",
   "execution_count": null,
   "metadata": {},
   "outputs": [],
   "source": [
    "df1 = pd.DataFrame({'Names': ['Andreas', 'George', 'Steve',\n",
    "                           'Sarah', 'Joanna', 'Hanna'],\n",
    "                   'Age':[21, 22, 20, 19, 18, 23]})\n",
    "df1.to_excel('output1.xlsx', engine='xlsxwriter', index=False)"
   ]
  },
  {
   "cell_type": "code",
   "execution_count": null,
   "metadata": {},
   "outputs": [],
   "source": []
  },
  {
   "cell_type": "code",
   "execution_count": null,
   "metadata": {},
   "outputs": [],
   "source": []
  },
  {
   "cell_type": "code",
   "execution_count": null,
   "metadata": {},
   "outputs": [],
   "source": []
  }
 ],
 "metadata": {
  "kernelspec": {
   "display_name": "Python 3",
   "language": "python",
   "name": "python3"
  },
  "language_info": {
   "codemirror_mode": {
    "name": "ipython",
    "version": 3
   },
   "file_extension": ".py",
   "mimetype": "text/x-python",
   "name": "python",
   "nbconvert_exporter": "python",
   "pygments_lexer": "ipython3",
   "version": "3.6.0"
  }
 },
 "nbformat": 4,
 "nbformat_minor": 2
}
